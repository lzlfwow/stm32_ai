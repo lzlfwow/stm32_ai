{
 "cells": [
  {
   "cell_type": "markdown",
   "id": "68aa2c39-1a4b-4d3c-ab35-3d44896f2f67",
   "metadata": {},
   "source": [
    "# 安装配置环境\n",
    "\n",
    "代码运行云GPU平台：公众号 人工智能小技巧 回复 gpu\n",
    "\n",
    "同济子豪兄 2022-8-22 2023-4-28 2023-5-8"
   ]
  },
  {
   "cell_type": "markdown",
   "id": "3835364b-b8ca-4361-965f-b1ca65355227",
   "metadata": {},
   "source": [
    "## 安装 Pytorch"
   ]
  },
  {
   "cell_type": "code",
   "execution_count": 4,
   "id": "f9c9f8de-2c5e-477e-8893-f1435e3ff331",
   "metadata": {},
   "outputs": [
    {
     "name": "stdout",
     "output_type": "stream",
     "text": [
      "Looking in indexes: https://pypi.org/simple, https://download.pytorch.org/whl/cu113\n",
      "Requirement already satisfied: torch in c:\\users\\86150\\anaconda3\\envs\\gar_cla\\lib\\site-packages (2.2.1)\n",
      "Requirement already satisfied: torchvision in c:\\users\\86150\\anaconda3\\envs\\gar_cla\\lib\\site-packages (0.17.1)\n",
      "Requirement already satisfied: filelock in c:\\users\\86150\\anaconda3\\envs\\gar_cla\\lib\\site-packages (from torch) (3.13.1)\n",
      "Requirement already satisfied: typing-extensions>=4.8.0 in c:\\users\\86150\\anaconda3\\envs\\gar_cla\\lib\\site-packages (from torch) (4.9.0)\n",
      "Requirement already satisfied: sympy in c:\\users\\86150\\anaconda3\\envs\\gar_cla\\lib\\site-packages (from torch) (1.12)\n",
      "Requirement already satisfied: networkx in c:\\users\\86150\\anaconda3\\envs\\gar_cla\\lib\\site-packages (from torch) (3.2.1)\n",
      "Requirement already satisfied: jinja2 in c:\\users\\86150\\anaconda3\\envs\\gar_cla\\lib\\site-packages (from torch) (3.1.3)\n",
      "Requirement already satisfied: fsspec in c:\\users\\86150\\anaconda3\\envs\\gar_cla\\lib\\site-packages (from torch) (2024.2.0)\n",
      "Requirement already satisfied: numpy in c:\\users\\86150\\anaconda3\\envs\\gar_cla\\lib\\site-packages (from torchvision) (1.26.4)\n",
      "Requirement already satisfied: pillow!=8.3.*,>=5.3.0 in c:\\users\\86150\\anaconda3\\envs\\gar_cla\\lib\\site-packages (from torchvision) (10.2.0)\n",
      "Requirement already satisfied: MarkupSafe>=2.0 in c:\\users\\86150\\anaconda3\\envs\\gar_cla\\lib\\site-packages (from jinja2->torch) (2.1.5)\n",
      "Requirement already satisfied: mpmath>=0.19 in c:\\users\\86150\\anaconda3\\envs\\gar_cla\\lib\\site-packages (from sympy->torch) (1.3.0)\n"
     ]
    }
   ],
   "source": [
    "!pip3 install torch torchvision --extra-index-url https://download.pytorch.org/whl/cu113"
   ]
  },
  {
   "cell_type": "markdown",
   "id": "96aa0774-0576-4966-ab70-a7fd3092b8be",
   "metadata": {},
   "source": [
    "## 安装 ONNX"
   ]
  },
  {
   "cell_type": "code",
   "execution_count": 5,
   "id": "175eecb2-b225-466b-a5d6-031740aeb78a",
   "metadata": {},
   "outputs": [
    {
     "name": "stdout",
     "output_type": "stream",
     "text": [
      "Looking in indexes: https://pypi.tuna.tsinghua.edu.cn/simple\n",
      "Requirement already satisfied: onnx in c:\\users\\86150\\anaconda3\\envs\\gar_cla\\lib\\site-packages (1.13.1)\n",
      "Requirement already satisfied: numpy>=1.16.6 in c:\\users\\86150\\anaconda3\\envs\\gar_cla\\lib\\site-packages (from onnx) (1.26.4)\n",
      "Requirement already satisfied: protobuf<4,>=3.20.2 in c:\\users\\86150\\anaconda3\\envs\\gar_cla\\lib\\site-packages (from onnx) (3.20.3)\n",
      "Requirement already satisfied: typing-extensions>=3.6.2.1 in c:\\users\\86150\\anaconda3\\envs\\gar_cla\\lib\\site-packages (from onnx) (4.9.0)\n"
     ]
    }
   ],
   "source": [
    "!pip install onnx -i https://pypi.tuna.tsinghua.edu.cn/simple"
   ]
  },
  {
   "cell_type": "markdown",
   "id": "876de399-982e-48a9-b7cb-7b5b4c95fcc7",
   "metadata": {},
   "source": [
    "## 安装推理引擎 ONNX Runtime"
   ]
  },
  {
   "cell_type": "code",
   "execution_count": 6,
   "id": "a66fcd4d-d214-4d59-b903-ede62b1a60da",
   "metadata": {},
   "outputs": [
    {
     "name": "stdout",
     "output_type": "stream",
     "text": [
      "Looking in indexes: https://pypi.tuna.tsinghua.edu.cn/simple\n",
      "Requirement already satisfied: onnxruntime in c:\\users\\86150\\anaconda3\\envs\\gar_cla\\lib\\site-packages (1.17.1)\n",
      "Requirement already satisfied: coloredlogs in c:\\users\\86150\\anaconda3\\envs\\gar_cla\\lib\\site-packages (from onnxruntime) (15.0.1)\n",
      "Requirement already satisfied: flatbuffers in c:\\users\\86150\\anaconda3\\envs\\gar_cla\\lib\\site-packages (from onnxruntime) (24.3.7)\n",
      "Requirement already satisfied: numpy>=1.21.6 in c:\\users\\86150\\anaconda3\\envs\\gar_cla\\lib\\site-packages (from onnxruntime) (1.26.4)\n",
      "Requirement already satisfied: packaging in c:\\users\\86150\\anaconda3\\envs\\gar_cla\\lib\\site-packages (from onnxruntime) (24.0)\n",
      "Requirement already satisfied: protobuf in c:\\users\\86150\\anaconda3\\envs\\gar_cla\\lib\\site-packages (from onnxruntime) (3.20.3)\n",
      "Requirement already satisfied: sympy in c:\\users\\86150\\anaconda3\\envs\\gar_cla\\lib\\site-packages (from onnxruntime) (1.12)\n",
      "Requirement already satisfied: humanfriendly>=9.1 in c:\\users\\86150\\anaconda3\\envs\\gar_cla\\lib\\site-packages (from coloredlogs->onnxruntime) (10.0)\n",
      "Requirement already satisfied: mpmath>=0.19 in c:\\users\\86150\\anaconda3\\envs\\gar_cla\\lib\\site-packages (from sympy->onnxruntime) (1.3.0)\n",
      "Requirement already satisfied: pyreadline3 in c:\\users\\86150\\anaconda3\\envs\\gar_cla\\lib\\site-packages (from humanfriendly>=9.1->coloredlogs->onnxruntime) (3.4.1)\n"
     ]
    }
   ],
   "source": [
    "!pip install onnxruntime -i https://pypi.tuna.tsinghua.edu.cn/simple"
   ]
  },
  {
   "cell_type": "markdown",
   "id": "30403df6-dd55-429e-8b4b-6ff36413c306",
   "metadata": {},
   "source": [
    "## 安装其它第三方工具包"
   ]
  },
  {
   "cell_type": "code",
   "execution_count": 7,
   "id": "83c98888-79c0-4f4c-8e64-b9cc65ac797e",
   "metadata": {},
   "outputs": [
    {
     "name": "stdout",
     "output_type": "stream",
     "text": [
      "Looking in indexes: https://pypi.tuna.tsinghua.edu.cn/simple\n",
      "Requirement already satisfied: numpy in c:\\users\\86150\\anaconda3\\envs\\gar_cla\\lib\\site-packages (1.26.4)\n",
      "Requirement already satisfied: pandas in c:\\users\\86150\\anaconda3\\envs\\gar_cla\\lib\\site-packages (2.2.1)\n",
      "Requirement already satisfied: matplotlib in c:\\users\\86150\\anaconda3\\envs\\gar_cla\\lib\\site-packages (3.8.3)\n",
      "Requirement already satisfied: tqdm in c:\\users\\86150\\anaconda3\\envs\\gar_cla\\lib\\site-packages (4.66.2)\n",
      "Requirement already satisfied: opencv-python in c:\\users\\86150\\anaconda3\\envs\\gar_cla\\lib\\site-packages (4.9.0.80)\n",
      "Requirement already satisfied: pillow in c:\\users\\86150\\anaconda3\\envs\\gar_cla\\lib\\site-packages (10.2.0)\n",
      "Requirement already satisfied: python-dateutil>=2.8.2 in c:\\users\\86150\\anaconda3\\envs\\gar_cla\\lib\\site-packages (from pandas) (2.9.0.post0)\n",
      "Requirement already satisfied: pytz>=2020.1 in c:\\users\\86150\\anaconda3\\envs\\gar_cla\\lib\\site-packages (from pandas) (2024.1)\n",
      "Requirement already satisfied: tzdata>=2022.7 in c:\\users\\86150\\anaconda3\\envs\\gar_cla\\lib\\site-packages (from pandas) (2024.1)\n",
      "Requirement already satisfied: contourpy>=1.0.1 in c:\\users\\86150\\anaconda3\\envs\\gar_cla\\lib\\site-packages (from matplotlib) (1.2.0)\n",
      "Requirement already satisfied: cycler>=0.10 in c:\\users\\86150\\anaconda3\\envs\\gar_cla\\lib\\site-packages (from matplotlib) (0.12.1)\n",
      "Requirement already satisfied: fonttools>=4.22.0 in c:\\users\\86150\\anaconda3\\envs\\gar_cla\\lib\\site-packages (from matplotlib) (4.49.0)\n",
      "Requirement already satisfied: kiwisolver>=1.3.1 in c:\\users\\86150\\anaconda3\\envs\\gar_cla\\lib\\site-packages (from matplotlib) (1.4.5)\n",
      "Requirement already satisfied: packaging>=20.0 in c:\\users\\86150\\anaconda3\\envs\\gar_cla\\lib\\site-packages (from matplotlib) (24.0)\n",
      "Requirement already satisfied: pyparsing>=2.3.1 in c:\\users\\86150\\anaconda3\\envs\\gar_cla\\lib\\site-packages (from matplotlib) (3.1.2)\n",
      "Requirement already satisfied: importlib-resources>=3.2.0 in c:\\users\\86150\\anaconda3\\envs\\gar_cla\\lib\\site-packages (from matplotlib) (6.3.0)\n",
      "Requirement already satisfied: colorama in c:\\users\\86150\\anaconda3\\envs\\gar_cla\\lib\\site-packages (from tqdm) (0.4.6)\n",
      "Requirement already satisfied: zipp>=3.1.0 in c:\\users\\86150\\anaconda3\\envs\\gar_cla\\lib\\site-packages (from importlib-resources>=3.2.0->matplotlib) (3.18.0)\n",
      "Requirement already satisfied: six>=1.5 in c:\\users\\86150\\anaconda3\\envs\\gar_cla\\lib\\site-packages (from python-dateutil>=2.8.2->pandas) (1.16.0)\n"
     ]
    }
   ],
   "source": [
    "!pip install numpy pandas matplotlib tqdm opencv-python pillow -i https://pypi.tuna.tsinghua.edu.cn/simple"
   ]
  },
  {
   "cell_type": "markdown",
   "id": "5edbbb7e-51a6-408e-abc2-94709e698da1",
   "metadata": {},
   "source": [
    "## 验证安装配置成功"
   ]
  },
  {
   "cell_type": "code",
   "execution_count": 8,
   "id": "dd572b2f-680b-4a26-b8d0-de12bdc4cc4c",
   "metadata": {},
   "outputs": [
    {
     "ename": "OSError",
     "evalue": "[WinError 127] 找不到指定的程序。 Error loading \"C:\\Users\\86150\\anaconda3\\lib\\site-packages\\torch\\lib\\c10_cuda.dll\" or one of its dependencies.",
     "output_type": "error",
     "traceback": [
      "\u001B[1;31m---------------------------------------------------------------------------\u001B[0m",
      "\u001B[1;31mOSError\u001B[0m                                   Traceback (most recent call last)",
      "\u001B[1;32m~\\AppData\\Local\\Temp\\ipykernel_13272\\4176937709.py\u001B[0m in \u001B[0;36m<module>\u001B[1;34m\u001B[0m\n\u001B[1;32m----> 1\u001B[1;33m \u001B[1;32mimport\u001B[0m \u001B[0mtorch\u001B[0m\u001B[1;33m\u001B[0m\u001B[1;33m\u001B[0m\u001B[0m\n\u001B[0m\u001B[0;32m      2\u001B[0m \u001B[0mprint\u001B[0m\u001B[1;33m(\u001B[0m\u001B[1;34m'PyTorch 版本'\u001B[0m\u001B[1;33m,\u001B[0m \u001B[0mtorch\u001B[0m\u001B[1;33m.\u001B[0m\u001B[0m__version__\u001B[0m\u001B[1;33m)\u001B[0m\u001B[1;33m\u001B[0m\u001B[1;33m\u001B[0m\u001B[0m\n",
      "\u001B[1;32m~\\anaconda3\\lib\\site-packages\\torch\\__init__.py\u001B[0m in \u001B[0;36m<module>\u001B[1;34m\u001B[0m\n\u001B[0;32m    128\u001B[0m                 \u001B[0merr\u001B[0m \u001B[1;33m=\u001B[0m \u001B[0mctypes\u001B[0m\u001B[1;33m.\u001B[0m\u001B[0mWinError\u001B[0m\u001B[1;33m(\u001B[0m\u001B[0mlast_error\u001B[0m\u001B[1;33m)\u001B[0m\u001B[1;33m\u001B[0m\u001B[1;33m\u001B[0m\u001B[0m\n\u001B[0;32m    129\u001B[0m                 \u001B[0merr\u001B[0m\u001B[1;33m.\u001B[0m\u001B[0mstrerror\u001B[0m \u001B[1;33m+=\u001B[0m \u001B[1;34mf' Error loading \"{dll}\" or one of its dependencies.'\u001B[0m\u001B[1;33m\u001B[0m\u001B[1;33m\u001B[0m\u001B[0m\n\u001B[1;32m--> 130\u001B[1;33m                 \u001B[1;32mraise\u001B[0m \u001B[0merr\u001B[0m\u001B[1;33m\u001B[0m\u001B[1;33m\u001B[0m\u001B[0m\n\u001B[0m\u001B[0;32m    131\u001B[0m             \u001B[1;32melif\u001B[0m \u001B[0mres\u001B[0m \u001B[1;32mis\u001B[0m \u001B[1;32mnot\u001B[0m \u001B[1;32mNone\u001B[0m\u001B[1;33m:\u001B[0m\u001B[1;33m\u001B[0m\u001B[1;33m\u001B[0m\u001B[0m\n\u001B[0;32m    132\u001B[0m                 \u001B[0mis_loaded\u001B[0m \u001B[1;33m=\u001B[0m \u001B[1;32mTrue\u001B[0m\u001B[1;33m\u001B[0m\u001B[1;33m\u001B[0m\u001B[0m\n",
      "\u001B[1;31mOSError\u001B[0m: [WinError 127] 找不到指定的程序。 Error loading \"C:\\Users\\86150\\anaconda3\\lib\\site-packages\\torch\\lib\\c10_cuda.dll\" or one of its dependencies."
     ]
    }
   ],
   "source": [
    "import torch\n",
    "print('PyTorch 版本', torch.__version__)"
   ]
  },
  {
   "cell_type": "code",
   "execution_count": 9,
   "id": "a10a2963-f825-45c1-93c1-ba26ef6b0431",
   "metadata": {},
   "outputs": [
    {
     "ename": "ModuleNotFoundError",
     "evalue": "No module named 'onnx'",
     "output_type": "error",
     "traceback": [
      "\u001B[1;31m---------------------------------------------------------------------------\u001B[0m",
      "\u001B[1;31mModuleNotFoundError\u001B[0m                       Traceback (most recent call last)",
      "\u001B[1;32m~\\AppData\\Local\\Temp\\ipykernel_13272\\2505071342.py\u001B[0m in \u001B[0;36m<module>\u001B[1;34m\u001B[0m\n\u001B[1;32m----> 1\u001B[1;33m \u001B[1;32mimport\u001B[0m \u001B[0monnx\u001B[0m\u001B[1;33m\u001B[0m\u001B[1;33m\u001B[0m\u001B[0m\n\u001B[0m\u001B[0;32m      2\u001B[0m \u001B[0mprint\u001B[0m\u001B[1;33m(\u001B[0m\u001B[1;34m'ONNX 版本'\u001B[0m\u001B[1;33m,\u001B[0m \u001B[0monnx\u001B[0m\u001B[1;33m.\u001B[0m\u001B[0m__version__\u001B[0m\u001B[1;33m)\u001B[0m\u001B[1;33m\u001B[0m\u001B[1;33m\u001B[0m\u001B[0m\n",
      "\u001B[1;31mModuleNotFoundError\u001B[0m: No module named 'onnx'"
     ]
    }
   ],
   "source": [
    "import onnx\n",
    "print('ONNX 版本', onnx.__version__)"
   ]
  },
  {
   "cell_type": "code",
   "execution_count": 10,
   "id": "a4d17124-414b-47b3-a364-5d808c270485",
   "metadata": {},
   "outputs": [
    {
     "ename": "ModuleNotFoundError",
     "evalue": "No module named 'onnxruntime'",
     "output_type": "error",
     "traceback": [
      "\u001B[1;31m---------------------------------------------------------------------------\u001B[0m",
      "\u001B[1;31mModuleNotFoundError\u001B[0m                       Traceback (most recent call last)",
      "\u001B[1;32m~\\AppData\\Local\\Temp\\ipykernel_13272\\2360341625.py\u001B[0m in \u001B[0;36m<module>\u001B[1;34m\u001B[0m\n\u001B[1;32m----> 1\u001B[1;33m \u001B[1;32mimport\u001B[0m \u001B[0monnxruntime\u001B[0m \u001B[1;32mas\u001B[0m \u001B[0mort\u001B[0m\u001B[1;33m\u001B[0m\u001B[1;33m\u001B[0m\u001B[0m\n\u001B[0m\u001B[0;32m      2\u001B[0m \u001B[0mprint\u001B[0m\u001B[1;33m(\u001B[0m\u001B[1;34m'ONNX Runtime 版本'\u001B[0m\u001B[1;33m,\u001B[0m \u001B[0mort\u001B[0m\u001B[1;33m.\u001B[0m\u001B[0m__version__\u001B[0m\u001B[1;33m)\u001B[0m\u001B[1;33m\u001B[0m\u001B[1;33m\u001B[0m\u001B[0m\n",
      "\u001B[1;31mModuleNotFoundError\u001B[0m: No module named 'onnxruntime'"
     ]
    }
   ],
   "source": [
    "import onnxruntime as ort\n",
    "print('ONNX Runtime 版本', ort.__version__)"
   ]
  },
  {
   "cell_type": "code",
   "execution_count": null,
   "id": "53eae0d0-a51b-478f-8cba-a54c87afcf70",
   "metadata": {},
   "outputs": [],
   "source": []
  }
 ],
 "metadata": {
  "kernelspec": {
   "display_name": "Python 3 (ipykernel)",
   "language": "python",
   "name": "python3"
  },
  "language_info": {
   "codemirror_mode": {
    "name": "ipython",
    "version": 3
   },
   "file_extension": ".py",
   "mimetype": "text/x-python",
   "name": "python",
   "nbconvert_exporter": "python",
   "pygments_lexer": "ipython3",
   "version": "3.9.18"
  }
 },
 "nbformat": 4,
 "nbformat_minor": 5
}
