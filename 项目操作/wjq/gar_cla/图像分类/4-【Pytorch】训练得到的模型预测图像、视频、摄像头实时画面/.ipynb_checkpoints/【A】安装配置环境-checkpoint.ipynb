{
 "cells": [
  {
   "cell_type": "markdown",
   "id": "68aa2c39-1a4b-4d3c-ab35-3d44896f2f67",
   "metadata": {},
   "source": [
    "# 安装配置环境\n",
    "\n",
    "同济子豪兄 https://space.bilibili.com/1900783\n",
    "\n",
    "代码运行[云GPU平台](https://featurize.cn/?s=d7ce99f842414bfcaea5662a97581bd1)\n",
    "\n",
    "2022-8-13"
   ]
  },
  {
   "cell_type": "markdown",
   "id": "d56b4a5f-8ec2-4493-8344-580ed67d3d25",
   "metadata": {},
   "source": [
    "## 直接运行代码块即可"
   ]
  },
  {
   "cell_type": "code",
   "execution_count": 1,
   "id": "83c98888-79c0-4f4c-8e64-b9cc65ac797e",
   "metadata": {},
   "outputs": [
    {
     "name": "stdout",
     "output_type": "stream",
     "text": [
      "Looking in indexes: https://pypi.tuna.tsinghua.edu.cn/simple\n",
      "Requirement already satisfied: numpy in c:\\users\\86150\\anaconda3\\envs\\pytorch\\lib\\site-packages (1.19.2)\n",
      "Requirement already satisfied: pandas in c:\\users\\86150\\anaconda3\\envs\\pytorch\\lib\\site-packages (1.1.5)\n",
      "Requirement already satisfied: matplotlib in c:\\users\\86150\\anaconda3\\envs\\pytorch\\lib\\site-packages (3.3.4)\n",
      "Requirement already satisfied: requests in c:\\users\\86150\\anaconda3\\envs\\pytorch\\lib\\site-packages (2.27.1)\n",
      "Requirement already satisfied: tqdm in c:\\users\\86150\\anaconda3\\envs\\pytorch\\lib\\site-packages (4.63.0)\n",
      "Requirement already satisfied: opencv-python in c:\\users\\86150\\anaconda3\\envs\\pytorch\\lib\\site-packages (4.4.0.44)\n",
      "Requirement already satisfied: pillow in c:\\users\\86150\\anaconda3\\envs\\pytorch\\lib\\site-packages (8.3.1)\n",
      "Requirement already satisfied: pytz>=2017.2 in c:\\users\\86150\\anaconda3\\envs\\pytorch\\lib\\site-packages (from pandas) (2024.1)\n",
      "Requirement already satisfied: python-dateutil>=2.7.3 in c:\\users\\86150\\anaconda3\\envs\\pytorch\\lib\\site-packages (from pandas) (2.8.2)\n",
      "Requirement already satisfied: kiwisolver>=1.0.1 in c:\\users\\86150\\anaconda3\\envs\\pytorch\\lib\\site-packages (from matplotlib) (1.3.1)\n",
      "Requirement already satisfied: pyparsing!=2.0.4,!=2.1.2,!=2.1.6,>=2.0.3 in c:\\users\\86150\\anaconda3\\envs\\pytorch\\lib\\site-packages (from matplotlib) (3.0.4)\n",
      "Requirement already satisfied: cycler>=0.10 in c:\\users\\86150\\anaconda3\\envs\\pytorch\\lib\\site-packages (from matplotlib) (0.11.0)\n",
      "Requirement already satisfied: certifi>=2017.4.17 in c:\\users\\86150\\anaconda3\\envs\\pytorch\\lib\\site-packages (from requests) (2021.5.30)\n",
      "Requirement already satisfied: charset-normalizer~=2.0.0 in c:\\users\\86150\\anaconda3\\envs\\pytorch\\lib\\site-packages (from requests) (2.0.12)\n",
      "Requirement already satisfied: urllib3<1.27,>=1.21.1 in c:\\users\\86150\\anaconda3\\envs\\pytorch\\lib\\site-packages (from requests) (1.26.18)\n",
      "Requirement already satisfied: idna<4,>=2.5 in c:\\users\\86150\\anaconda3\\envs\\pytorch\\lib\\site-packages (from requests) (3.6)\n",
      "Requirement already satisfied: colorama in c:\\users\\86150\\anaconda3\\envs\\pytorch\\lib\\site-packages (from tqdm) (0.4.4)\n",
      "Requirement already satisfied: importlib-resources in c:\\users\\86150\\anaconda3\\envs\\pytorch\\lib\\site-packages (from tqdm) (5.4.0)\n",
      "Requirement already satisfied: six>=1.5 in c:\\users\\86150\\anaconda3\\envs\\pytorch\\lib\\site-packages (from python-dateutil>=2.7.3->pandas) (1.16.0)\n",
      "Requirement already satisfied: zipp>=3.1.0 in c:\\users\\86150\\anaconda3\\envs\\pytorch\\lib\\site-packages (from importlib-resources->tqdm) (3.6.0)\n"
     ]
    }
   ],
   "source": [
    "!pip install numpy pandas matplotlib requests tqdm opencv-python pillow -i https://pypi.tuna.tsinghua.edu.cn/simple"
   ]
  },
  {
   "cell_type": "markdown",
   "id": "f34acebb-ad33-4775-a842-3df6e4cce3fb",
   "metadata": {},
   "source": [
    "## 下载安装Pytorch"
   ]
  },
  {
   "cell_type": "code",
   "execution_count": 2,
   "id": "f9c9f8de-2c5e-477e-8893-f1435e3ff331",
   "metadata": {},
   "outputs": [
    {
     "name": "stdout",
     "output_type": "stream",
     "text": [
      "Looking in indexes: https://pypi.org/simple, https://download.pytorch.org/whl/cu113\n",
      "Requirement already satisfied: torch in c:\\users\\86150\\anaconda3\\envs\\pytorch\\lib\\site-packages (1.10.2)\n",
      "Requirement already satisfied: torchvision in c:\\users\\86150\\anaconda3\\envs\\pytorch\\lib\\site-packages (0.11.3)\n",
      "Requirement already satisfied: torchaudio in c:\\users\\86150\\anaconda3\\envs\\pytorch\\lib\\site-packages (0.10.2)\n",
      "Requirement already satisfied: typing_extensions in c:\\users\\86150\\anaconda3\\envs\\pytorch\\lib\\site-packages (from torch) (4.1.1)\n",
      "Requirement already satisfied: dataclasses in c:\\users\\86150\\anaconda3\\envs\\pytorch\\lib\\site-packages (from torch) (0.8)\n",
      "Requirement already satisfied: numpy in c:\\users\\86150\\anaconda3\\envs\\pytorch\\lib\\site-packages (from torchvision) (1.19.2)\n",
      "Requirement already satisfied: pillow!=8.3.0,>=5.3.0 in c:\\users\\86150\\anaconda3\\envs\\pytorch\\lib\\site-packages (from torchvision) (8.3.1)\n"
     ]
    }
   ],
   "source": [
    "!pip3 install torch torchvision torchaudio --extra-index-url https://download.pytorch.org/whl/cu113"
   ]
  },
  {
   "cell_type": "markdown",
   "id": "f82fef37-f204-4029-9e9d-8556fb22def0",
   "metadata": {},
   "source": [
    "## 下载安装 mmcv-full"
   ]
  },
  {
   "cell_type": "code",
   "execution_count": 3,
   "id": "75203561-5659-40cb-ad35-202a316d6641",
   "metadata": {},
   "outputs": [
    {
     "name": "stdout",
     "output_type": "stream",
     "text": [
      "Looking in links: https://download.openmmlab.com/mmcv/dist/cu113/torch1.10.0/index.html\n",
      "Requirement already satisfied: mmcv-full in c:\\users\\86150\\anaconda3\\envs\\pytorch\\lib\\site-packages (1.7.2)\n",
      "Requirement already satisfied: yapf in c:\\users\\86150\\anaconda3\\envs\\pytorch\\lib\\site-packages (from mmcv-full) (0.32.0)\n",
      "Requirement already satisfied: opencv-python>=3 in c:\\users\\86150\\anaconda3\\envs\\pytorch\\lib\\site-packages (from mmcv-full) (4.4.0.44)\n",
      "Requirement already satisfied: regex in c:\\users\\86150\\anaconda3\\envs\\pytorch\\lib\\site-packages (from mmcv-full) (2023.8.8)\n",
      "Requirement already satisfied: numpy in c:\\users\\86150\\anaconda3\\envs\\pytorch\\lib\\site-packages (from mmcv-full) (1.19.2)\n",
      "Requirement already satisfied: addict in c:\\users\\86150\\anaconda3\\envs\\pytorch\\lib\\site-packages (from mmcv-full) (2.4.0)\n",
      "Requirement already satisfied: packaging in c:\\users\\86150\\anaconda3\\envs\\pytorch\\lib\\site-packages (from mmcv-full) (21.3)\n",
      "Requirement already satisfied: Pillow in c:\\users\\86150\\anaconda3\\envs\\pytorch\\lib\\site-packages (from mmcv-full) (8.3.1)\n",
      "Requirement already satisfied: pyyaml in c:\\users\\86150\\anaconda3\\envs\\pytorch\\lib\\site-packages (from mmcv-full) (5.4.1)\n",
      "Requirement already satisfied: pyparsing!=3.0.5,>=2.0.2 in c:\\users\\86150\\anaconda3\\envs\\pytorch\\lib\\site-packages (from packaging->mmcv-full) (3.0.4)\n"
     ]
    }
   ],
   "source": [
    "# 安装mmcv -full\n",
    "!pip install mmcv-full -f https://download.openmmlab.com/mmcv/dist/cu113/torch1.10.0/index.html"
   ]
  },
  {
   "cell_type": "markdown",
   "id": "4df3fa7c-23d2-4db1-a12f-8fafbe96b16d",
   "metadata": {},
   "source": [
    "## 下载中文字体文件"
   ]
  },
  {
   "cell_type": "code",
   "execution_count": 7,
   "id": "a18e57f9-0ece-4d34-a0fd-0642a778a3b6",
   "metadata": {},
   "outputs": [
    {
     "name": "stdout",
     "output_type": "stream",
     "text": [
      "--2022-08-18 11:31:09--  https://zihao-openmmlab.obs.cn-east-3.myhuaweicloud.com/20220716-mmclassification/dataset/SimHei.ttf\n",
      "Connecting to 172.16.0.13:5848... connected.\n",
      "Proxy request sent, awaiting response... 200 OK\n",
      "Length: 10050868 (9.6M) [application/x-font-ttf]\n",
      "Saving to: ‘SimHei.ttf’\n",
      "\n",
      "SimHei.ttf          100%[===================>]   9.58M  21.1MB/s    in 0.5s    \n",
      "\n",
      "2022-08-18 11:31:15 (21.1 MB/s) - ‘SimHei.ttf’ saved [10050868/10050868]\n",
      "\n"
     ]
    }
   ],
   "source": [
    "!wget https://zihao-openmmlab.obs.cn-east-3.myhuaweicloud.com/20220716-mmclassification/dataset/SimHei.ttf\n"
   ]
  },
  {
   "cell_type": "markdown",
   "id": "5628a6f7-e356-4d45-95ee-17fcb316b3c7",
   "metadata": {},
   "source": [
    "## 创建目录"
   ]
  },
  {
   "cell_type": "code",
   "execution_count": 4,
   "id": "d149db7a-5f6e-4513-b5c2-72fdf3eb3e2a",
   "metadata": {},
   "outputs": [],
   "source": [
    "import os"
   ]
  },
  {
   "cell_type": "code",
   "execution_count": 5,
   "id": "97a32738-da46-4b63-8b37-8a37dbf79602",
   "metadata": {},
   "outputs": [],
   "source": [
    "# 存放测试图片\n",
    "os.mkdir('test_img')\n",
    "\n",
    "# 存放结果文件\n",
    "os.mkdir('output')\n",
    "\n",
    "# 存放训练得到的模型权重\n",
    "os.mkdir('checkpoint')"
   ]
  },
  {
   "cell_type": "code",
   "execution_count": 5,
   "id": "8c96b963-310c-4b2b-a426-0a30751f0910",
   "metadata": {},
   "outputs": [
    {
     "name": "stdout",
     "output_type": "stream",
     "text": [
      "--2023-03-26 18:11:17--  https://zihao-openmmlab.obs.cn-east-3.myhuaweicloud.com/20220716-mmclassification/checkpoints/fruit30_pytorch_20220814.pth\n",
      "正在连接 172.16.0.13:5848... 已连接。\n",
      "已发出 Proxy 请求，正在等待回应... 200 OK\n",
      "长度： 44854477 (43M) [binary/octet-stream]\n",
      "正在保存至: “checkpoint/fruit30_pytorch_20220814.pth”\n",
      "\n",
      "fruit30_pytorch_202 100%[===================>]  42.78M  37.4MB/s    用时 1.1s    \n",
      "\n",
      "2023-03-26 18:11:18 (37.4 MB/s) - 已保存 “checkpoint/fruit30_pytorch_20220814.pth” [44854477/44854477])\n",
      "\n",
      "--2023-03-26 18:11:18--  https://zihao-openmmlab.obs.cn-east-3.myhuaweicloud.com/20220716-mmclassification/dataset/fruit30/idx_to_labels.npy\n",
      "正在连接 172.16.0.13:5848... 已连接。\n",
      "已发出 Proxy 请求，正在等待回应... 200 OK\n",
      "长度： 769 [binary/octet-stream]\n",
      "正在保存至: “idx_to_labels.npy.1”\n",
      "\n",
      "idx_to_labels.npy.1 100%[===================>]     769  --.-KB/s    用时 0s      \n",
      "\n",
      "2023-03-26 18:11:19 (18.8 MB/s) - 已保存 “idx_to_labels.npy.1” [769/769])\n",
      "\n"
     ]
    }
   ],
   "source": [
    "# 下载样例模型文件\n",
    "!wget https://zihao-openmmlab.obs.cn-east-3.myhuaweicloud.com/20220716-mmclassification/checkpoints/fruit30_pytorch_20220814.pth -P checkpoint\n",
    "\n",
    "# 下载 类别名称 和 ID索引号 的映射字典\n",
    "!wget https://zihao-openmmlab.obs.cn-east-3.myhuaweicloud.com/20220716-mmclassification/dataset/fruit30/idx_to_labels.npy"
   ]
  },
  {
   "cell_type": "code",
   "execution_count": 6,
   "id": "31061098-afd0-4170-8e9a-f62a5b1de1cf",
   "metadata": {},
   "outputs": [
    {
     "name": "stdout",
     "output_type": "stream",
     "text": [
      "--2023-03-26 18:11:23--  https://zihao-openmmlab.obs.myhuaweicloud.com/20220716-mmclassification/test/0818/test_fruits.jpg\n",
      "正在连接 172.16.0.13:5848... 已连接。\n",
      "已发出 Proxy 请求，正在等待回应... 200 OK\n",
      "长度： 2579427 (2.5M) [image/jpeg]\n",
      "正在保存至: “test_img/test_fruits.jpg”\n",
      "\n",
      "test_fruits.jpg     100%[===================>]   2.46M  6.74MB/s    用时 0.4s    \n",
      "\n",
      "2023-03-26 18:11:24 (6.74 MB/s) - 已保存 “test_img/test_fruits.jpg” [2579427/2579427])\n",
      "\n",
      "--2023-03-26 18:11:24--  https://zihao-openmmlab.obs.myhuaweicloud.com/20220716-mmclassification/test/0818/test_orange_2.jpg\n",
      "正在连接 172.16.0.13:5848... 已连接。\n",
      "已发出 Proxy 请求，正在等待回应... 200 OK\n",
      "长度： 1771019 (1.7M) [image/jpeg]\n",
      "正在保存至: “test_img/test_orange_2.jpg”\n",
      "\n",
      "test_orange_2.jpg   100%[===================>]   1.69M  5.71MB/s    用时 0.3s    \n",
      "\n",
      "2023-03-26 18:11:24 (5.71 MB/s) - 已保存 “test_img/test_orange_2.jpg” [1771019/1771019])\n",
      "\n",
      "--2023-03-26 18:11:24--  https://zihao-openmmlab.obs.myhuaweicloud.com/20220716-mmclassification/test/0818/test_bananan.jpg\n",
      "正在连接 172.16.0.13:5848... 已连接。\n",
      "已发出 Proxy 请求，正在等待回应... 200 OK\n",
      "长度： 1116714 (1.1M) [image/jpeg]\n",
      "正在保存至: “test_img/test_bananan.jpg”\n",
      "\n",
      "test_bananan.jpg    100%[===================>]   1.06M  3.48MB/s    用时 0.3s    \n",
      "\n",
      "2023-03-26 18:11:26 (3.48 MB/s) - 已保存 “test_img/test_bananan.jpg” [1116714/1116714])\n",
      "\n",
      "--2023-03-26 18:11:26--  https://zihao-openmmlab.obs.myhuaweicloud.com/20220716-mmclassification/test/0818/test_kiwi.jpg\n",
      "正在连接 172.16.0.13:5848... 已连接。\n",
      "已发出 Proxy 请求，正在等待回应... 200 OK\n",
      "长度： 1555297 (1.5M) [image/jpeg]\n",
      "正在保存至: “test_img/test_kiwi.jpg”\n",
      "\n",
      "test_kiwi.jpg       100%[===================>]   1.48M  4.96MB/s    用时 0.3s    \n",
      "\n",
      "2023-03-26 18:11:27 (4.96 MB/s) - 已保存 “test_img/test_kiwi.jpg” [1555297/1555297])\n",
      "\n",
      "--2023-03-26 18:11:27--  https://zihao-openmmlab.obs.myhuaweicloud.com/20220716-mmclassification/test/0818/test_%E7%9F%B3%E6%A6%B4.jpg\n",
      "正在连接 172.16.0.13:5848... 已连接。\n",
      "已发出 Proxy 请求，正在等待回应... 200 OK\n",
      "长度： 1326649 (1.3M) [image/jpeg]\n",
      "正在保存至: “test_img/test_石榴.jpg”\n",
      "\n",
      "test_石榴.jpg       100%[===================>]   1.26M  4.68MB/s    用时 0.3s    \n",
      "\n",
      "2023-03-26 18:11:28 (4.68 MB/s) - 已保存 “test_img/test_石榴.jpg” [1326649/1326649])\n",
      "\n",
      "--2023-03-26 18:11:28--  https://zihao-openmmlab.obs.myhuaweicloud.com/20220716-mmclassification/test/0818/test_orange.jpg\n",
      "正在连接 172.16.0.13:5848... 已连接。\n",
      "已发出 Proxy 请求，正在等待回应... 200 OK\n",
      "长度： 1283008 (1.2M) [image/jpeg]\n",
      "正在保存至: “test_img/test_orange.jpg”\n",
      "\n",
      "test_orange.jpg     100%[===================>]   1.22M  4.45MB/s    用时 0.3s    \n",
      "\n",
      "2023-03-26 18:11:28 (4.45 MB/s) - 已保存 “test_img/test_orange.jpg” [1283008/1283008])\n",
      "\n",
      "--2023-03-26 18:11:28--  https://zihao-openmmlab.obs.myhuaweicloud.com/20220716-mmclassification/test/0818/test_lemon.jpg\n",
      "正在连接 172.16.0.13:5848... 已连接。\n",
      "已发出 Proxy 请求，正在等待回应... 200 OK\n",
      "长度： 983324 (960K) [image/jpeg]\n",
      "正在保存至: “test_img/test_lemon.jpg”\n",
      "\n",
      "test_lemon.jpg      100%[===================>] 960.28K  3.50MB/s    用时 0.3s    \n",
      "\n",
      "2023-03-26 18:11:29 (3.50 MB/s) - 已保存 “test_img/test_lemon.jpg” [983324/983324])\n",
      "\n",
      "--2023-03-26 18:11:29--  https://zihao-openmmlab.obs.myhuaweicloud.com/20220716-mmclassification/test/0818/test_%E7%81%AB%E9%BE%99%E6%9E%9C.jpg\n",
      "正在连接 172.16.0.13:5848... 已连接。\n",
      "已发出 Proxy 请求，正在等待回应... 200 OK\n",
      "长度： 1385692 (1.3M) [image/jpeg]\n",
      "正在保存至: “test_img/test_火龙果.jpg”\n",
      "\n",
      "test_火龙果.jpg     100%[===================>]   1.32M  4.72MB/s    用时 0.3s    \n",
      "\n",
      "2023-03-26 18:11:29 (4.72 MB/s) - 已保存 “test_img/test_火龙果.jpg” [1385692/1385692])\n",
      "\n",
      "--2023-03-26 18:11:30--  https://zihao-openmmlab.obs.cn-east-3.myhuaweicloud.com/20220716-mmclassification/test/watermelon1.jpg\n",
      "正在连接 172.16.0.13:5848... 已连接。\n",
      "已发出 Proxy 请求，正在等待回应... 200 OK\n",
      "长度： 429666 (420K) [image/jpeg]\n",
      "正在保存至: “test_img/watermelon1.jpg”\n",
      "\n",
      "watermelon1.jpg     100%[===================>] 419.60K  2.00MB/s    用时 0.2s    \n",
      "\n",
      "2023-03-26 18:11:30 (2.00 MB/s) - 已保存 “test_img/watermelon1.jpg” [429666/429666])\n",
      "\n",
      "--2023-03-26 18:11:30--  https://zihao-openmmlab.obs.cn-east-3.myhuaweicloud.com/20220716-mmclassification/test/banana1.jpg\n",
      "正在连接 172.16.0.13:5848... 已连接。\n",
      "已发出 Proxy 请求，正在等待回应... 200 OK\n",
      "长度： 463879 (453K) [image/jpeg]\n",
      "正在保存至: “test_img/banana1.jpg”\n",
      "\n",
      "banana1.jpg         100%[===================>] 453.01K  2.18MB/s    用时 0.2s    \n",
      "\n",
      "2023-03-26 18:11:31 (2.18 MB/s) - 已保存 “test_img/banana1.jpg” [463879/463879])\n",
      "\n",
      "--2023-03-26 18:11:31--  https://zihao-openmmlab.obs.myhuaweicloud.com/20220716-mmclassification/test/0818/fruits_video.mp4\n",
      "正在连接 172.16.0.13:5848... 已连接。\n",
      "已发出 Proxy 请求，正在等待回应... 200 OK\n",
      "长度： 17320366 (17M) [video/mp4]\n",
      "正在保存至: “test_img/fruits_video.mp4”\n",
      "\n",
      "fruits_video.mp4    100%[===================>]  16.52M  23.5MB/s    用时 0.7s    \n",
      "\n",
      "2023-03-26 18:11:32 (23.5 MB/s) - 已保存 “test_img/fruits_video.mp4” [17320366/17320366])\n",
      "\n"
     ]
    }
   ],
   "source": [
    "# 下载测试图像文件 至 test_img 文件夹\n",
    "\n",
    "!wget https://zihao-openmmlab.obs.myhuaweicloud.com/20220716-mmclassification/test/0818/test_fruits.jpg -P test_img\n",
    "\n",
    "!wget https://zihao-openmmlab.obs.myhuaweicloud.com/20220716-mmclassification/test/0818/test_orange_2.jpg -P test_img \n",
    "\n",
    "!wget https://zihao-openmmlab.obs.myhuaweicloud.com/20220716-mmclassification/test/0818/test_bananan.jpg -P test_img\n",
    "\n",
    "!wget https://zihao-openmmlab.obs.myhuaweicloud.com/20220716-mmclassification/test/0818/test_kiwi.jpg -P test_img\n",
    "\n",
    "!wget https://zihao-openmmlab.obs.myhuaweicloud.com/20220716-mmclassification/test/0818/test_石榴.jpg -P test_img\n",
    "\n",
    "!wget https://zihao-openmmlab.obs.myhuaweicloud.com/20220716-mmclassification/test/0818/test_orange.jpg -P test_img\n",
    "\n",
    "!wget https://zihao-openmmlab.obs.myhuaweicloud.com/20220716-mmclassification/test/0818/test_lemon.jpg -P test_img\n",
    "\n",
    "!wget https://zihao-openmmlab.obs.myhuaweicloud.com/20220716-mmclassification/test/0818/test_火龙果.jpg -P test_img\n",
    "\n",
    "!wget https://zihao-openmmlab.obs.cn-east-3.myhuaweicloud.com/20220716-mmclassification/test/watermelon1.jpg -P test_img\n",
    "\n",
    "!wget https://zihao-openmmlab.obs.cn-east-3.myhuaweicloud.com/20220716-mmclassification/test/banana1.jpg -P test_img\n",
    "\n",
    "# 下载测试视频文件 至 test_img 文件夹\n",
    "\n",
    "!wget https://zihao-openmmlab.obs.myhuaweicloud.com/20220716-mmclassification/test/0818/fruits_video.mp4 -P test_img \n"
   ]
  },
  {
   "cell_type": "markdown",
   "id": "5d2dab62-639f-407d-900b-5378a7e631b3",
   "metadata": {},
   "source": [
    "## 设置matplotlib中文字体"
   ]
  },
  {
   "cell_type": "code",
   "execution_count": 6,
   "id": "12f5d4c9-aa6c-41ce-9094-08118eb6fba1",
   "metadata": {},
   "outputs": [],
   "source": [
    "import matplotlib.pyplot as plt\n",
    "%matplotlib inline"
   ]
  },
  {
   "cell_type": "code",
   "execution_count": 7,
   "id": "875f443b-c943-42fe-bb3b-9dfbf01f28f8",
   "metadata": {},
   "outputs": [],
   "source": [
    "# windows操作系统\n",
    "plt.rcParams['font.sans-serif']=['SimHei']  # 用来正常显示中文标签 \n",
    "plt.rcParams['axes.unicode_minus']=False  # 用来正常显示负号"
   ]
  },
  {
   "cell_type": "code",
   "execution_count": 9,
   "id": "b693a006-5a40-49b7-b1da-a2f4e822f140",
   "metadata": {},
   "outputs": [],
   "source": [
    "# Mac操作系统，参考 https://www.ngui.cc/51cto/show-727683.html\n",
    "# 下载 simhei.ttf 字体文件\n",
    "# !wget https://zihao-openmmlab.obs.cn-east-3.myhuaweicloud.com/20220716-mmclassification/dataset/SimHei.ttf"
   ]
  },
  {
   "cell_type": "code",
   "execution_count": 10,
   "id": "ec933a1e-fb24-48ac-a945-69f2149c5301",
   "metadata": {},
   "outputs": [
    {
     "name": "stdout",
     "output_type": "stream",
     "text": [
      "--2023-03-26 18:11:40--  https://zihao-openmmlab.obs.cn-east-3.myhuaweicloud.com/20220716-mmclassification/dataset/SimHei.ttf\n",
      "正在连接 172.16.0.13:5848... 已连接。\n",
      "已发出 Proxy 请求，正在等待回应... 200 OK\n",
      "长度： 10050868 (9.6M) [application/x-font-ttf]\n",
      "正在保存至: “/environment/miniconda3/lib/python3.7/site-packages/matplotlib/mpl-data/fonts/ttf/SimHei.ttf”\n",
      "\n",
      "/environment/minico 100%[===================>]   9.58M  18.0MB/s    用时 0.5s    \n",
      "\n",
      "2023-03-26 18:11:41 (18.0 MB/s) - 已保存 “/environment/miniconda3/lib/python3.7/site-packages/matplotlib/mpl-data/fonts/ttf/SimHei.ttf” [10050868/10050868])\n",
      "\n"
     ]
    }
   ],
   "source": [
    "# Linux操作系统，例如 云GPU平台：https://featurize.cn/?s=d7ce99f842414bfcaea5662a97581bd1\n",
    "# 如果报错 Unable to establish SSL connection.，重新运行本代码块即可\n",
    "!wget https://zihao-openmmlab.obs.cn-east-3.myhuaweicloud.com/20220716-mmclassification/dataset/SimHei.ttf -O /environment/miniconda3/lib/python3.7/site-packages/matplotlib/mpl-data/fonts/ttf/SimHei.ttf --no-check-certificate\n",
    "!rm -rf /home/featurize/.cache/matplotlib\n",
    "\n",
    "import matplotlib\n",
    "import matplotlib.pyplot as plt\n",
    "%matplotlib inline\n",
    "matplotlib.rc(\"font\",family='SimHei') # 中文字体\n",
    "plt.rcParams['axes.unicode_minus']=False  # 用来正常显示负号"
   ]
  },
  {
   "cell_type": "code",
   "execution_count": 8,
   "id": "da0ce49d-5ff5-471d-b19e-4037a2e1dd20",
   "metadata": {},
   "outputs": [
    {
     "data": {
      "image/png": "[encoded data removed]",
      "text/plain": [
       "<Figure size 432x288 with 1 Axes>"
      ]
     },
     "metadata": {
      "needs_background": "light"
     },
     "output_type": "display_data"
    }
   ],
   "source": [
    "plt.plot([1,2,3], [100,500,300])\n",
    "plt.title('matplotlib中文字体测试', fontsize=25)\n",
    "plt.xlabel('X轴', fontsize=15)\n",
    "plt.ylabel('Y轴', fontsize=15)\n",
    "plt.show()"
   ]
  },
  {
   "cell_type": "code",
   "execution_count": null,
   "id": "9bdd3de9-0be3-4591-9c66-54ca9b870b16",
   "metadata": {},
   "outputs": [],
   "source": []
  }
 ],
 "metadata": {
  "kernelspec": {
   "display_name": "Python 3",
   "language": "python",
   "name": "python3"
  },
  "language_info": {
   "codemirror_mode": {
    "name": "ipython",
    "version": 3
   },
   "file_extension": ".py",
   "mimetype": "text/x-python",
   "name": "python",
   "nbconvert_exporter": "python",
   "pygments_lexer": "ipython3",
   "version": "3.6.13"
  }
 },
 "nbformat": 4,
 "nbformat_minor": 5
}
