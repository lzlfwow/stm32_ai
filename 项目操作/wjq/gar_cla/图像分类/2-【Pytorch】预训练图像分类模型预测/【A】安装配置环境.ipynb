{
 "cells": [
  {
   "cell_type": "markdown",
   "id": "68aa2c39-1a4b-4d3c-ab35-3d44896f2f67",
   "metadata": {},
   "source": [
    "# 安装配置环境\n",
    "\n",
    "同济子豪兄 https://space.bilibili.com/1900783\n",
    "\n",
    "代码运行[云GPU平台](https://featurize.cn/?s=d7ce99f842414bfcaea5662a97581bd1)\n",
    "\n",
    "2022-8-2"
   ]
  },
  {
   "cell_type": "markdown",
   "id": "d56b4a5f-8ec2-4493-8344-580ed67d3d25",
   "metadata": {},
   "source": [
    "## 直接运行代码块即可"
   ]
  },
  {
   "cell_type": "code",
   "execution_count": 1,
   "id": "83c98888-79c0-4f4c-8e64-b9cc65ac797e",
   "metadata": {},
   "outputs": [
    {
     "name": "stdout",
     "output_type": "stream",
     "text": [
      "Looking in indexes: https://pypi.tuna.tsinghua.edu.cn/simple\n",
      "Requirement already satisfied: numpy in c:\\users\\86150\\anaconda3\\envs\\pytorch\\lib\\site-packages (1.19.2)\n",
      "Requirement already satisfied: pandas in c:\\users\\86150\\anaconda3\\envs\\pytorch\\lib\\site-packages (1.1.5)\n",
      "Requirement already satisfied: matplotlib in c:\\users\\86150\\anaconda3\\envs\\pytorch\\lib\\site-packages (3.3.4)\n",
      "Requirement already satisfied: requests in c:\\users\\86150\\anaconda3\\envs\\pytorch\\lib\\site-packages (2.27.1)\n",
      "Requirement already satisfied: tqdm in c:\\users\\86150\\anaconda3\\envs\\pytorch\\lib\\site-packages (4.63.0)\n",
      "Requirement already satisfied: opencv-python in c:\\users\\86150\\anaconda3\\envs\\pytorch\\lib\\site-packages (4.4.0.44)\n",
      "Requirement already satisfied: pillow in c:\\users\\86150\\anaconda3\\envs\\pytorch\\lib\\site-packages (8.3.1)\n"
     ]
    },
    {
     "name": "stderr",
     "output_type": "stream",
     "text": [
      "ERROR: Could not find a version that satisfies the requirement gc (from versions: none)\n",
      "ERROR: No matching distribution found for gc\n"
     ]
    }
   ],
   "source": [
    "!pip install numpy pandas matplotlib requests tqdm opencv-python pillow gc -i https://pypi.tuna.tsinghua.edu.cn/simple"
   ]
  },
  {
   "cell_type": "markdown",
   "id": "f34acebb-ad33-4775-a842-3df6e4cce3fb",
   "metadata": {},
   "source": [
    "## 下载安装Pytorch"
   ]
  },
  {
   "cell_type": "code",
   "execution_count": 2,
   "id": "f9c9f8de-2c5e-477e-8893-f1435e3ff331",
   "metadata": {},
   "outputs": [
    {
     "name": "stdout",
     "output_type": "stream",
     "text": [
      "Looking in indexes: https://pypi.org/simple, https://download.pytorch.org/whl/cu113\n",
      "Requirement already satisfied: torch in c:\\users\\86150\\anaconda3\\envs\\pytorch\\lib\\site-packages (1.10.2)\n",
      "Requirement already satisfied: torchvision in c:\\users\\86150\\anaconda3\\envs\\pytorch\\lib\\site-packages (0.11.3)\n",
      "Requirement already satisfied: torchaudio in c:\\users\\86150\\anaconda3\\envs\\pytorch\\lib\\site-packages (0.10.2)\n",
      "Requirement already satisfied: typing_extensions in c:\\users\\86150\\anaconda3\\envs\\pytorch\\lib\\site-packages (from torch) (4.1.1)\n",
      "Requirement already satisfied: dataclasses in c:\\users\\86150\\anaconda3\\envs\\pytorch\\lib\\site-packages (from torch) (0.8)\n",
      "Requirement already satisfied: numpy in c:\\users\\86150\\anaconda3\\envs\\pytorch\\lib\\site-packages (from torchvision) (1.19.2)\n",
      "Requirement already satisfied: pillow!=8.3.0,>=5.3.0 in c:\\users\\86150\\anaconda3\\envs\\pytorch\\lib\\site-packages (from torchvision) (8.3.1)\n"
     ]
    }
   ],
   "source": [
    "!pip3 install torch torchvision torchaudio --extra-index-url https://download.pytorch.org/whl/cu113"
   ]
  },
  {
   "cell_type": "markdown",
   "id": "84132041-20bb-4401-9f8e-2bdad1f16cbe",
   "metadata": {},
   "source": [
    "## 下载安装 mmcv-full"
   ]
  },
  {
   "cell_type": "code",
   "execution_count": 3,
   "id": "75203561-5659-40cb-ad35-202a316d6641",
   "metadata": {},
   "outputs": [
    {
     "name": "stdout",
     "output_type": "stream",
     "text": [
      "Looking in links: https://download.openmmlab.com/mmcv/dist/cu113/torch1.10.0/index.html\n",
      "Collecting mmcv-full\n",
      "  Downloading https://download.openmmlab.com/mmcv/dist/cu113/torch1.10.0/mmcv_full-1.7.2-cp36-cp36m-win_amd64.whl (15.4 MB)\n",
      "Requirement already satisfied: packaging in c:\\users\\86150\\anaconda3\\envs\\pytorch\\lib\\site-packages (from mmcv-full) (21.3)\n",
      "Requirement already satisfied: opencv-python>=3 in c:\\users\\86150\\anaconda3\\envs\\pytorch\\lib\\site-packages (from mmcv-full) (4.4.0.44)\n",
      "Collecting yapf\n",
      "  Downloading yapf-0.32.0-py2.py3-none-any.whl (190 kB)\n",
      "Requirement already satisfied: pyyaml in c:\\users\\86150\\anaconda3\\envs\\pytorch\\lib\\site-packages (from mmcv-full) (5.4.1)\n",
      "Collecting addict\n",
      "  Downloading addict-2.4.0-py3-none-any.whl (3.8 kB)\n",
      "Requirement already satisfied: numpy in c:\\users\\86150\\anaconda3\\envs\\pytorch\\lib\\site-packages (from mmcv-full) (1.19.2)\n",
      "Requirement already satisfied: Pillow in c:\\users\\86150\\anaconda3\\envs\\pytorch\\lib\\site-packages (from mmcv-full) (8.3.1)\n",
      "Collecting regex\n",
      "  Downloading regex-2023.8.8-cp36-cp36m-win_amd64.whl (280 kB)\n",
      "Requirement already satisfied: pyparsing!=3.0.5,>=2.0.2 in c:\\users\\86150\\anaconda3\\envs\\pytorch\\lib\\site-packages (from packaging->mmcv-full) (3.0.4)\n",
      "Installing collected packages: yapf, regex, addict, mmcv-full\n",
      "Successfully installed addict-2.4.0 mmcv-full-1.7.2 regex-2023.8.8 yapf-0.32.0\n"
     ]
    }
   ],
   "source": [
    "# 安装mmcv -full\n",
    "!pip install mmcv-full -f https://download.openmmlab.com/mmcv/dist/cu113/torch1.10.0/index.html"
   ]
  },
  {
   "cell_type": "markdown",
   "id": "4df3fa7c-23d2-4db1-a12f-8fafbe96b16d",
   "metadata": {},
   "source": [
    "## 下载中文字体文件"
   ]
  },
  {
   "cell_type": "code",
   "execution_count": 6,
   "id": "a18e57f9-0ece-4d34-a0fd-0642a778a3b6",
   "metadata": {},
   "outputs": [
    {
     "name": "stderr",
     "output_type": "stream",
     "text": [
      "'Invoke-WebRequest' 不是内部或外部命令，也不是可运行的程序\n",
      "或批处理文件。\n"
     ]
    }
   ],
   "source": [
    "\n",
    "!wget https://zihao-openmmlab.obs.cn-east-3.myhuaweicloud.com/20220716-mmclassification/dataset/SimHei.ttf"
   ]
  },
  {
   "cell_type": "markdown",
   "id": "8997e27f-7056-41cb-a371-3f41b50b5657",
   "metadata": {},
   "source": [
    "## 下载 ImageNet 1000类别信息"
   ]
  },
  {
   "cell_type": "code",
   "execution_count": null,
   "id": "ad87e1f8-e15a-45a4-bbeb-cc7d0479610c",
   "metadata": {},
   "outputs": [],
   "source": [
    "!wget https://zihao-openmmlab.obs.cn-east-3.myhuaweicloud.com/20220716-mmclassification/dataset/meta_data/imagenet_class_index.csv\n"
   ]
  },
  {
   "cell_type": "markdown",
   "id": "5628a6f7-e356-4d45-95ee-17fcb316b3c7",
   "metadata": {},
   "source": [
    "## 创建目录"
   ]
  },
  {
   "cell_type": "code",
   "execution_count": 3,
   "id": "d149db7a-5f6e-4513-b5c2-72fdf3eb3e2a",
   "metadata": {},
   "outputs": [],
   "source": [
    "import os"
   ]
  },
  {
   "cell_type": "code",
   "execution_count": null,
   "id": "97a32738-da46-4b63-8b37-8a37dbf79602",
   "metadata": {},
   "outputs": [],
   "source": [
    "# 存放测试图片\n",
    "os.mkdir('test_img')\n",
    "\n",
    "# 存放结果文件\n",
    "os.mkdir('output')"
   ]
  },
  {
   "cell_type": "code",
   "execution_count": null,
   "id": "2d31e3d5-b6eb-4769-a7cf-724cd8d9b888",
   "metadata": {},
   "outputs": [],
   "source": [
    "# 下载测试图像文件 至 test_img 文件夹\n",
    "\n",
    "!wget https://zihao-openmmlab.obs.cn-east-3.myhuaweicloud.com/20220716-mmclassification/test/watermelon1.jpg -O test_img/watermelon1.jpg\n",
    "!wget https://zihao-openmmlab.obs.cn-east-3.myhuaweicloud.com/20220716-mmclassification/test/banana1.jpg -O test_img/banana1.jpg\n",
    "!wget https://zihao-openmmlab.obs.cn-east-3.myhuaweicloud.com/20220716-mmclassification/test/cat1.jpg -O test_img/cat1.jpg\n",
    "\n",
    "# 哈士奇，来源：https://www.pexels.com/zh-cn/photo/2853130/\n",
    "!wget https://zihao-openmmlab.obs.cn-east-3.myhuaweicloud.com/20220716-mmclassification/test/husky1.jpeg -O test_img/husky1.jpeg\n",
    "\n",
    "# 猫狗，来源：https://unsplash.com/photos/ouo1hbizWwo\n",
    "!wget https://zihao-openmmlab.obs.cn-east-3.myhuaweicloud.com/20220716-mmclassification/test/cat_dog.jpg -O test_img/cat_dog.jpg\n",
    "\n",
    "!wget https://zihao-openmmlab.obs.cn-east-3.myhuaweicloud.com/20220716-mmclassification/test/video_2.mp4 -O test_img/video_2.mp4\n"
   ]
  },
  {
   "cell_type": "code",
   "execution_count": null,
   "id": "04e12a75-af98-4197-b679-aff86ef7a240",
   "metadata": {},
   "outputs": [],
   "source": []
  }
 ],
 "metadata": {
  "kernelspec": {
   "display_name": "Python 3",
   "language": "python",
   "name": "python3"
  },
  "language_info": {
   "codemirror_mode": {
    "name": "ipython",
    "version": 3
   },
   "file_extension": ".py",
   "mimetype": "text/x-python",
   "name": "python",
   "nbconvert_exporter": "python",
   "pygments_lexer": "ipython3",
   "version": "3.6.13"
  }
 },
 "nbformat": 4,
 "nbformat_minor": 5
}
